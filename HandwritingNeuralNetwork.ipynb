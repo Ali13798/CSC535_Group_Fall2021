{
 "cells": [
  {
   "cell_type": "code",
   "execution_count": null,
   "metadata": {},
   "outputs": [],
   "source": [
    "\"\"\"\n",
    "    Authors: \n",
    "        Ali Karimiafshar <karimiafsharali@gmail.com>\n",
    "        Vitor Freitas\n",
    "        Kadidia Kantao\n",
    "        \n",
    "\"\"\""
   ]
  },
  {
   "cell_type": "code",
   "execution_count": null,
   "metadata": {},
   "outputs": [],
   "source": [
    "import numpy as np\n",
    "import random"
   ]
  },
  {
   "cell_type": "code",
   "execution_count": null,
   "metadata": {},
   "outputs": [],
   "source": [
    "def initWeights(size:int) -> np.array:\n",
    "    \"\"\"Initializes the weights vector with random numbers ranging (-0.5,0.5).\n",
    "\n",
    "    Args:\n",
    "        size (int): The number of weights to be randomly initialized.\n",
    "\n",
    "    Returns:\n",
    "        np.array: Array of the random weights.\n",
    "    \"\"\"\n",
    "    weights = []\n",
    "    for _ in range(size):\n",
    "        weights.append(random.uniform(-0.5,0.5))\n",
    "    return np.array(weights)"
   ]
  }
 ],
 "metadata": {
  "language_info": {
   "name": "python"
  },
  "orig_nbformat": 4
 },
 "nbformat": 4,
 "nbformat_minor": 2
}
