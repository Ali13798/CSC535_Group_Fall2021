{
 "cells": [
  {
   "cell_type": "code",
   "execution_count": 7,
   "metadata": {},
   "outputs": [
    {
     "data": {
      "text/plain": [
       "'\\n    Authors: \\n        Ali Karimiafshar <karimiafsharali@gmail.com>\\n        Vitor Freitas\\n        Kadidia Kantao\\n    Date:\\n        11/16/2021\\n    Dataset: https://www.kaggle.com/c/digit-recognizer/data\\n'"
      ]
     },
     "execution_count": 7,
     "metadata": {},
     "output_type": "execute_result"
    }
   ],
   "source": [
    "\"\"\"\n",
    "    Authors: \n",
    "        Ali Karimiafshar <karimiafsharali@gmail.com>\n",
    "        Vitor Freitas\n",
    "        Kadidia Kantao\n",
    "    Date:\n",
    "        11/16/2021\n",
    "    Dataset: https://www.kaggle.com/c/digit-recognizer/data\n",
    "\"\"\";"
   ]
  },
  {
   "cell_type": "code",
   "execution_count": 8,
   "metadata": {},
   "outputs": [],
   "source": [
    "import numpy as np\n",
    "import pandas as pd\n",
    "import random"
   ]
  },
  {
   "cell_type": "code",
   "execution_count": 9,
   "metadata": {},
   "outputs": [],
   "source": [
    "def initWeights(size:int) -> np.array:\n",
    "    \"\"\"Initializes the weights vector with random numbers ranging (-0.5,0.5).\n",
    "\n",
    "    Args:\n",
    "        size (int): The number of weights to be randomly initialized.\n",
    "\n",
    "    Returns:\n",
    "        np.array: Array of the random weights.\n",
    "    \"\"\"\n",
    "    weights = []\n",
    "    for _ in range(size):\n",
    "        weights.append(random.uniform(-0.5,0.5))\n",
    "    return np.array(weights)"
   ]
  },
  {
   "cell_type": "code",
   "execution_count": 10,
   "metadata": {},
   "outputs": [],
   "source": [
    "def neurons(row:pd.DataFrame, weights:np.array):\n",
    "    pass"
   ]
  },
  {
   "cell_type": "code",
   "execution_count": 11,
   "metadata": {},
   "outputs": [],
   "source": [
    "pixelsDF = pd.read_csv(\"train.csv\")"
   ]
  }
 ],
 "metadata": {
  "interpreter": {
   "hash": "ac59ebe37160ed0dfa835113d9b8498d9f09ceb179beaac4002f036b9467c963"
  },
  "kernelspec": {
   "display_name": "Python 3.9.2 64-bit",
   "language": "python",
   "name": "python3"
  },
  "language_info": {
   "codemirror_mode": {
    "name": "ipython",
    "version": 3
   },
   "file_extension": ".py",
   "mimetype": "text/x-python",
   "name": "python",
   "nbconvert_exporter": "python",
   "pygments_lexer": "ipython3",
   "version": "3.9.2"
  },
  "orig_nbformat": 4
 },
 "nbformat": 4,
 "nbformat_minor": 2
}
